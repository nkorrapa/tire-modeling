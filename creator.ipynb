{
 "cells": [
  {
   "cell_type": "code",
   "execution_count": 1,
   "metadata": {},
   "outputs": [
    {
     "ename": "ModuleNotFoundError",
     "evalue": "No module named 'pandas'",
     "output_type": "error",
     "traceback": [
      "\u001b[0;31m---------------------------------------------------------------------------\u001b[0m",
      "\u001b[0;31mModuleNotFoundError\u001b[0m                       Traceback (most recent call last)",
      "Cell \u001b[0;32mIn[1], line 1\u001b[0m\n\u001b[0;32m----> 1\u001b[0m \u001b[38;5;28;01mimport\u001b[39;00m\u001b[38;5;250m \u001b[39m\u001b[38;5;21;01mpandas\u001b[39;00m\u001b[38;5;250m \u001b[39m\u001b[38;5;28;01mas\u001b[39;00m\u001b[38;5;250m \u001b[39m\u001b[38;5;21;01mpd\u001b[39;00m\n",
      "\u001b[0;31mModuleNotFoundError\u001b[0m: No module named 'pandas'"
     ]
    }
   ],
   "source": [
    "import pandas as pd"
   ]
  },
  {
   "cell_type": "code",
   "execution_count": null,
   "metadata": {},
   "outputs": [],
   "source": [
    "# read in csv\n",
    "tir_file = pd.read_csv(\"tir_test.csv\", dtype=str)"
   ]
  },
  {
   "cell_type": "code",
   "execution_count": null,
   "metadata": {},
   "outputs": [],
   "source": [
    "i = 0\n",
    "for index, row in tir_file.iterrows():\n",
    "    term1 = tir_file.loc[i, 'field'].ljust(29, \" \") + '= ' + tir_file.loc[i, 'value']\n",
    "    text = term1.ljust(49, \" \")\n",
    "    tir_file.loc[i, 'line'] = text\n",
    "    i+=1\n"
   ]
  },
  {
   "cell_type": "code",
   "execution_count": null,
   "metadata": {},
   "outputs": [],
   "source": [
    "with open(\"model.tir\", \"w\") as f:\n",
    "    f.write(\"[MDI_HEADER] \\n\")\n",
    "\n",
    "with open(\"model.tir\", \"a\") as f:\n",
    "    for index, row in tir_file.iterrows():\n",
    "        if row.loc['category'] == \"[MDI_HEADER]\":\n",
    "            f.write(row.loc['line'] + \"\\n\")\n",
    "    f.write('$-----------------------------------------------------------------units\\n[UNITS]\\n')\n",
    "    for index, row in tir_file.iterrows():\n",
    "        if row.loc['category'] == \"[UNITS]\":\n",
    "            f.write(row.loc['line'] + \"\\n\")\n",
    "    f.write('$-----------------------------------------------------------------model\\n[MODEL]\\n')\n",
    "    for index, row in tir_file.iterrows():\n",
    "        if row.loc['category'] == \"[MODEL]\":\n",
    "            f.write(row.loc['line'] + \"\\n\")\n",
    "    f.write('$-------------------------------------------------------------dimension\\n[DIMENSION]\\n')\n",
    "    for index, row in tir_file.iterrows():\n",
    "        if row.loc['category'] == \"[DIMENSION]\":\n",
    "            f.write(row.loc['line'] + \"\\n\")\n",
    "    f.write('$--------------------------------------------------operating conditions\\n[OPERATING_CONDITIONS]\\n')\n",
    "    for index, row in tir_file.iterrows():\n",
    "        if row.loc['category'] == \"[OPERATING_CONDITIONS]\":\n",
    "            f.write(row.loc['line'] + \"\\n\")\n",
    "    f.write('$---------------------------------------------------------------inertia\\n[INERTIA]\\n')\n",
    "    for index, row in tir_file.iterrows():\n",
    "        if row.loc['category'] == \"[INERTIA]\":\n",
    "            f.write(row.loc['line'] + \"\\n\")\n",
    "    f.write('$--------------------------------------------------------------vertical\\n[VERTICAL]\\n')\n",
    "    for index, row in tir_file.iterrows():\n",
    "        if row.loc['category'] == \"[VERTICAL]\":\n",
    "            f.write(row.loc['line'] + \"\\n\")\n",
    "    f.write('$------------------------------------------------------------structural\\n[STRUCTURAL]\\n')\n",
    "    for index, row in tir_file.iterrows():\n",
    "        if row.loc['category'] == \"[STRUCTURAL]\":\n",
    "            f.write(row.loc['line'] + \"\\n\")\n",
    "    f.write('$---------------------------------------------------------contact patch\\n[CONTACT_PATCH]\\n')\n",
    "    for index, row in tir_file.iterrows():\n",
    "        if row.loc['category'] == \"[CONTACT_PATCH]\":\n",
    "            f.write(row.loc['line'] + \"\\n\")\n",
    "    f.write('$----------------------------------------------inflation pressure range\\n[INFLATION_PRESSURE_RANGE]\\n')\n",
    "    for index, row in tir_file.iterrows():\n",
    "        if row.loc['category'] == \"[INFLATION_PRESSURE_RANGE]\":\n",
    "            f.write(row.loc['line'] + \"\\n\")\n",
    "    f.write('$--------------------------------------------------vertical force range\\n[VERTICAL_FORCE_RANGE]\\n')\n",
    "    for index, row in tir_file.iterrows():\n",
    "        if row.loc['category'] == \"[VERTICAL_FORCE_RANGE]\":\n",
    "            f.write(row.loc['line'] + \"\\n\")\n",
    "    f.write('$-------------------------------------------------------long slip range\\n[LONG_SLIP_RANGE]\\n')\n",
    "    for index, row in tir_file.iterrows():\n",
    "        if row.loc['category'] == \"[LONG_SLIP_RANGE]\":\n",
    "            f.write(row.loc['line'] + \"\\n\")\n",
    "    f.write('$------------------------------------------------------slip angle range\\n[SLIP_ANGLE_RANGE]\\n')\n",
    "    for index, row in tir_file.iterrows():\n",
    "        if row.loc['category'] == \"[SLIP_ANGLE_RANGE]\":\n",
    "            f.write(row.loc['line'] + \"\\n\")\n",
    "    f.write('$-----------------------------------------------inclination angle range\\n[INCLINATION_ANGLE_RANGE]\\n')\n",
    "    for index, row in tir_file.iterrows():\n",
    "        if row.loc['category'] == \"[INCLINATION_ANGLE_RANGE]\":\n",
    "            f.write(row.loc['line'] + \"\\n\")\n",
    "    f.write('$--------------------------------------------------scaling coefficients\\n[SCALING_COEFFICIENTS]\\n')\n",
    "    for index, row in tir_file.iterrows():\n",
    "        if row.loc['category'] == \"[SCALING_COEFFICIENTS]\":\n",
    "            f.write(row.loc['line'] + \"\\n\")\n",
    "    f.write('$---------------------------------------------longitudinal coefficients\\n[LONGITUDINAL_COEFFICIENTS]\\n')\n",
    "    for index, row in tir_file.iterrows():\n",
    "        if row.loc['category'] == \"[LONGITUDINAL_COEFFICIENTS]\":\n",
    "            f.write(row.loc['line'] + \"\\n\")\n",
    "    f.write('$----------------------------------------------overturning coefficients\\n[OVERTURNING_COEFFICIENTS]\\n')\n",
    "    for index, row in tir_file.iterrows():\n",
    "        if row.loc['category'] == \"[OVERTURNING_COEFFICIENTS]\":\n",
    "            f.write(row.loc['line'] + \"\\n\")\n",
    "    f.write('$--------------------------------------------------lateral coefficients\\n[LATERAL_COEFFICIENTS]\\n')\n",
    "    for index, row in tir_file.iterrows():\n",
    "        if row.loc['category'] == \"[LATERAL_COEFFICIENTS]\":\n",
    "            f.write(row.loc['line'] + \"\\n\")\n",
    "    f.write('$--------------------------------------------------rolling coefficients\\n[ROLLING_COEFFICIENTS]\\n')\n",
    "    for index, row in tir_file.iterrows():\n",
    "        if row.loc['category'] == \"[ROLLING_COEFFICIENTS]\":\n",
    "            f.write(row.loc['line'] + \"\\n\")\n",
    "    f.write('$-------------------------------------------------aligning coefficients\\n[ALIGNING_COEFFICIENTS]\\n')\n",
    "    for index, row in tir_file.iterrows():\n",
    "        if row.loc['category'] == \"[ALIGNING_COEFFICIENTS]\":\n",
    "            f.write(row.loc['line'] + \"\\n\")\n",
    "    f.write('$-------------------------------------------------turnslip coefficients\\n[TURNSLIP_COEFFICIENTS]\\n')\n",
    "    for index, row in tir_file.iterrows():\n",
    "        if row.loc['category'] == \"[TURNSLIP_COEFFICIENTS]\":\n",
    "            f.write(row.loc['line'] + \"\\n\")\n"
   ]
  }
 ],
 "metadata": {
  "kernelspec": {
   "display_name": ".tire-modeling",
   "language": "python",
   "name": "python3"
  },
  "language_info": {
   "codemirror_mode": {
    "name": "ipython",
    "version": 3
   },
   "file_extension": ".py",
   "mimetype": "text/x-python",
   "name": "python",
   "nbconvert_exporter": "python",
   "pygments_lexer": "ipython3",
   "version": "3.9.20"
  }
 },
 "nbformat": 4,
 "nbformat_minor": 2
}
